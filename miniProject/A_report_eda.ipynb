{
 "cells": [
  {
   "cell_type": "markdown",
   "id": "84fc9c2e-9b8c-440c-8592-2b59fd30c957",
   "metadata": {},
   "source": [
    "# Exploratory Data Analysis of Student Self-Study Habits"
   ]
  },
  {
   "cell_type": "markdown",
   "id": "bb40fab3-417a-4b55-b4d9-7bc2f9d36b8f",
   "metadata": {},
   "source": [
    "## 1. Executive Summary\n",
    "This project examines student self-study behaviors, particularly those of female students, utilizing Exploratory Data Analysis (EDA). The project leverages data gathered from student surveys, which include information on the subject studied, the start and end times of study sessions, and the Rate of Perceived Exhaustion (RPE). The analysis aims to provide insights into various aspects of student self-study habits, with an emphasis on female students.\n"
   ]
  },
  {
   "cell_type": "markdown",
   "id": "f5580fa1-eab8-4b26-b50e-9a55598e857c",
   "metadata": {},
   "source": [
    "### Key areas of focus:\n",
    "- Average Study Duration: The analysis determines the average amount of time female students dedicate to self-study. This is a crucial metric for understanding their commitment to independent learning.\n",
    "- Average RPE: The project calculates the average RPE experienced by female students during self-study sessions. Understanding RPE levels can help assess the mental and physical effort involved in their study practices.\n",
    "- Prime Study Times: The analysis identifies specific time slots during which students tend to study for longer durations or report lower RPE levels. This insight can be valuable for optimizing study schedules and improving learning efficiency.\n",
    "- Subject-wise Trends: The project investigates the relationship between the choice of subject and both study duration and RPE. This exploration aims to uncover if certain subjects require longer study hours or are perceived as more demanding.\n",
    "  \n",
    "\n",
    "- The findings of this project will be beneficial for:\n",
    "    - Students: By understanding their self-study patterns, students can tailor their learning strategies and schedules to enhance their learning effectiveness.\n",
    "    - Educators: The insights can help educators design interventions and provide guidance to students on effective self-study practices.\n",
    "    - Parents: The analysis can inform parents about their children's study habits, allowing them to provide appropriate support and encouragement.\n",
    "Overall, this project aims to contribute to a better understanding of student self-study habits and inform strategies for improving their learning outcomes.\n",
    "\n",
    "---"
   ]
  },
  {
   "cell_type": "markdown",
   "id": "065b0f24-19e3-4be4-9387-710db80a1f65",
   "metadata": {},
   "source": [
    "## 2. Introduction"
   ]
  },
  {
   "cell_type": "markdown",
   "id": "c8fc5cd6-4a9b-48cc-8847-9aeaa5c6c8c0",
   "metadata": {},
   "source": [
    "### Project Background\n",
    "Understanding student self-study habits is crucial for optimizing learning outcomes. This project analyzes data collected through student surveys to gain insights into their study patterns and identify potential areas for improvement.\n",
    "### Project Objectives\n",
    "This project aims to achieve the following objectives through a detailed analysis of student self-reported data:\n",
    "- Determine the average study duration for students. \n",
    "- Calculate the average Rate of Perceived Exhaustion (RPE) experienced by students during self-study. By measuring RPE, the project aims to assess the mental and physical effort invested by students during their study sessions.\n",
    "- Identify prime study times based on duration and RPE levels. This objective involves analyzing the relationship between study time slots and both duration and RPE to determine when students are most engaged and productive.\n",
    "- Investigate the relationship between subject, duration, and RPE. This analysis aims to uncover whether specific subjects demand longer study hours or lead to higher levels of perceived exertion, offering insights into subject-specific study strategies.\\\n",
    "  \n",
    "### Scope of the Study\n",
    "This study is focused on analyzing self-reported data collected from a sample of students through a structured survey. The data encompasses information on the subject studied, the start and end times of study sessions, and the Rate of Perceived Exhaustion (RPE). The scope of the study is limited to exploring the relationships between these variables, and the findings may not be generalizable to all student populations due to the limited sample size and potential biases in self-reported data.\n",
    "    \n",
    "### Research Questions\n",
    "This project is guided by the following research questions:\n",
    "- How much time do students dedicate to self-study on average? This question aims to quantify the average duration of self-study sessions for female students, providing a basic understanding of their time allocation.\n",
    "- What is the average RPE reported by students during self-study sessions? This question seeks to understand the general level of perceived exertion experienced by students while studying independently.\n",
    "- Are there specific time slots when students study for longer durations or experience lower RPE? This question explores the concept of prime study times, aiming to identify periods when students are most effective in their self-study efforts.\n",
    "- Does the choice of subject influence study duration or RPE? This question investigates the potential impact of different subjects on study habits, seeking to understand whether certain subjects require more time or induce higher levels of perceived exertion.\n",
    "\n",
    "---"
   ]
  },
  {
   "cell_type": "markdown",
   "id": "f9903d43-d8b5-49f8-9f8e-1d33cd64f283",
   "metadata": {},
   "source": [
    "## 3. Methodology\n",
    "This section outlines the methodology employed in this project to analyze student self-study behaviors. The approach involves utilizing Python libraries for data manipulation and visualization, guided by the research questions established in the introduction.\n",
    "\n",
    "### 3.1 Data Collection\n",
    "\n",
    "The data for this project was collected through a structured survey administered to a sample of students. The survey included questions about:\n",
    "- The subject studied during each self-study session\n",
    "- The start and end times of each session\n",
    "- The student's perceived level of exhaustion, measured using the Rate of Perceived Exhaustion (RPE) scale. 1 denoting least and 5 denoting maximum.\n",
    "- This scale is commonly used in exercise science to measure subjective feelings of exertion during physical activity, and it can also be applied to assess mental effort during cognitive tasks like studying.\n",
    "\n",
    "### 3.2 Data Preprocessing\n",
    "\n",
    "After data collection, the survey responses were compiled into a comma-separated value (CSV) file named 'timeSheet.csv'. This file was then imported into a Python environment using the pandas library for data analysis and manipulation. The raw data underwent several preprocessing steps to ensure its quality and suitability for analysis.\n",
    "Key preprocessing steps included:\n",
    "- Removing Irrelevant Columns: Columns containing irrelevant information, such as 'Date' and 'Email Address', were dropped from the dataset using the `df.drop()` function in `pandas`.\n",
    "- Extracting Date and Time: The 'Timestamp' column, which contained both date and time information, was processed using the `pd.to_datetime()` function to extract separate 'dates' and 'time' columns. The original 'Timestamp' column was then dropped from the dataset.\n",
    "The 'Timestamp' column, containing both date and time information, is converted to datetime objects using the `pd.to_datetime()` function. This allows for separate extraction of 'dates' and 'time' using the `dt.date` and `dt.time` attributes.<br>\n",
    "`df['Timestamp'] = df['Timestamp'].apply(lambda x : pd.to_datetime(str(x)))`<br>\n",
    "`df['dates'] = df['Timestamp'].dt.date`<br>\n",
    "`df['time'] = df['Timestamp'].dt.time`<br>\n",
    "- Calculating Duration: To determine the duration of each study session, the 'Start Time' and 'End Time' columns were converted to datetime objects using `pd.to_datetime()`. The duration of each session was then calculated by subtracting the 'Start Time' from the 'End Time' and stored in a new 'Duration' column.\n",
    "The 'Start Time' and 'End Time' columns are transformed into datetime objects using `pd.to_datetime()`. The 'Duration' is then calculated by subtracting 'Start Time' from 'End Time'.<br>\n",
    "`df['Start Time'] = df['Start Time'].apply(lambda x : pd.to_datetime(str(x)))`<br>\n",
    "`df['End Time'] = df['End Time'].apply(lambda x : pd.to_datetime(str(x)))`<br>\n",
    "`df['Duration'] = df['End Time'] - df['Start Time']`<br>\n",
    "- Converting Duration to Readable Format: Initially, the 'Duration' column is in a format that includes \"`0 days`\" followed by the actual duration in hours, minutes, and seconds (e.g., \"`0 days 01:30:00`\"). This code aims to remove the \"`0 days`\" prefix and retain only the time portion for better readability.The code snippet used for converting the 'Duration' column to a more readable format is:<br>\n",
    "`df['Duration'] = df['Duration'].astype(str).str.split('0 days ').str[-1]`<br>\n",
    "Here is a breakdown of the code:<br>\n",
    "`df['Duration'].astype(str)`: This converts the 'Duration' column to string data type, allowing string operations to be applied.<br>\n",
    "`.str.split('0 days ')`: This splits each string in the 'Duration' column at the \"0 days \" delimiter, resulting in a list of strings for each row.<br>\n",
    "`.str[-1]`: This selects the last element from the list of strings generated by the split operation. As the duration time is the last part after the split, this effectively extracts the desired time portion.<br>\n",
    "By applying this code, the 'Duration' column will be transformed to contain only the time part of the duration, making it easier to read and work with in subsequent analyses. For instance, \"0 days 01:30:00\" would become \"01:30:00\".\n"
   ]
  },
  {
   "cell_type": "markdown",
   "id": "4d835f87-8615-49f7-b1a1-8dbc6e9399b2",
   "metadata": {},
   "source": [
    "### 3.3 Exploratory Data Analysis (EDA)\n",
    "The preprocessed data was then subjected to EDA using a combination of pandas and matplotlib, a Python plotting library. EDA techniques were employed to:\n",
    "- Calculate Descriptive Statistics: The `df.describe()` function in pandas was used to obtain descriptive statistics for the 'RPE' column, such as mean, standard deviation, minimum, and maximum values. This provided an initial overview of the distribution of perceived exertion levels.\n",
    "- Grouping and Aggregation: The data was grouped by different variables, such as 'Name' and 'Subject', using the `groupby()` function in pandas. Aggregation functions like `mean()` were then applied to calculate average RPE and duration for each group.\n",
    "- Data Visualization: Bar plots were generated using matplotlib to visualize the average RPE and duration for different groups, including by student name, by subject, and by time of day. These visualizations helped identify patterns and trends in the data.\n"
   ]
  },
  {
   "cell_type": "markdown",
   "id": "1dcd153d-b1a2-4e73-90fc-ed4661dbd660",
   "metadata": {},
   "source": [
    "<img title=\"a title\" alt=\"Alt text\" src=\"avgRPE.png\" width = 800>"
   ]
  },
  {
   "attachments": {},
   "cell_type": "markdown",
   "id": "2487e9b4-b1d4-485e-93b2-c1a890533513",
   "metadata": {},
   "source": [
    "<img title=\"a title\" alt=\"Alt text\" src=\"avgDur.png\" width=800>"
   ]
  },
  {
   "cell_type": "markdown",
   "id": "8477448d-5d38-4dba-94e3-53b9aeb73d29",
   "metadata": {},
   "source": [
    "#### Code snippet for average duration ( as an example providing code snippet for Jui , applying it for every student. ) \n",
    "`newdf = jui_df.drop(['dates', 'time','StartTime','EndTime','RPE','Name'],axis =1)`<br>\n",
    "`newdf['Duration'] = newdf['Duration'].apply(lambda x : pd.to_datetime(str(x))) #converting srt to date-time`<br>\n",
    "`newdf['Hours'] = newdf['Duration'].dt.hour`<br>\n",
    "`newdf['Minutes'] = newdf['Duration'].dt.minute`<br>\n",
    "`newdf = newdf.drop(['Duration'],axis =1)`<br>\n",
    "`newdf['Duration']= newdf['Minutes']+ newdf['Hours']*60`<br>\n",
    "`newdf = newdf.drop(['Hours','Minutes'],axis = 1)`<br>\n",
    "`newdf.groupby('Subject').mean()`<br>\n",
    "<br>\n",
    "#### Code snippet for average RPE ( as an example providing code snippet for Jui , applying it for every student. ) \n",
    "`newdf = jui_df.drop(['dates', 'time','StartTime','EndTime','Duration','Name'],axis =1)`<br>\n",
    "`newdf.groupby('Subject').mean()`<br>"
   ]
  },
  {
   "cell_type": "markdown",
   "id": "4bfa690f-717c-402c-9f55-e653094c071f",
   "metadata": {},
   "source": [
    "#### Showcasing resulting dataframes :"
   ]
  },
  {
   "cell_type": "markdown",
   "id": "39394289-8648-4f49-a32f-f27f57e6eeea",
   "metadata": {},
   "source": [
    "#### Swara : <br>\n",
    "<img title=\"a title\" alt=\"Alt text\" src=\"swara.png\" width = 500><br>\n",
    "#### Jui : <br>\n",
    "<img title=\"a title\" alt=\"Alt text\" src=\"jui.png\" width = 500><br>\n",
    "##### Nupur : <br>\n",
    "<img title=\"a title\" alt=\"Alt text\" src=\"nupur.png\" width = 500><br>"
   ]
  },
  {
   "cell_type": "markdown",
   "id": "f0810dc9-c45d-4844-94dc-432c89d6dd35",
   "metadata": {},
   "source": [
    "### 3.3.1 Average Duration Calculation"
   ]
  },
  {
   "cell_type": "markdown",
   "id": "9d72e507-2f27-44c4-a288-dae234a361fd",
   "metadata": {},
   "source": [
    "<img title=\"a title\" alt=\"Alt text\" src=\"duration.png\" width = 800>"
   ]
  },
  {
   "cell_type": "markdown",
   "id": "7caae07a-3351-4826-a518-da96028c8b8d",
   "metadata": {},
   "source": [
    "`import matplotlib.pyplot as plt`<br>\n",
    "`df12 = pd.DataFrame({'Name': ['Nupur', 'Jui', 'Swara'], 'Biology': [70, 0, 0]})`<br>\n",
    "`df13 = pd.DataFrame({'Name': ['Nupur', 'Jui', 'Swara'], 'Chemistry': [60, 79.15, 98.50]})`<br>\n",
    "`df14 = pd.DataFrame({'Name': ['Nupur', 'Jui', 'Swara'], 'English': [100, 97.5, 107.33]})`<br>\n",
    "`df15 = pd.DataFrame({'Name': ['Nupur', 'Jui', 'Swara'], 'Math1': [80, 74.58, 135.0]})`<br>\n",
    "`df16 = pd.DataFrame({'Name': ['Nupur', 'Jui', 'Swara'], 'Math2': [65, 79.66, 101.0]})`<br>\n",
    "`df17 = pd.DataFrame({'Name': ['Nupur', 'Jui', 'Swara'], 'Physics': [96.34, 75.09, 98.55]})`<br>\n",
    "\n",
    "`#use concat to combine more than two DataFrames`\n",
    "`df = pd.concat([df12.set_index('Name'), df13.set_index('Name'), df14.set_index('Name'), df15.set_index('Name'), df16.set_index('Name'), df17.set_index('Name')], axis=1)`<br>\n",
    "`df`<br>\n",
    "\n",
    "<img title=\"a title\" alt=\"Alt text\" src=\"durDF.png\" width = 600>\n",
    "\n",
    "`#plot the DataFrame`<br>\n",
    "`ax = df.plot(kind='bar', logy=True, figsize=(20, 10), rot=0, ylabel='Duration', title=\"Average Duration of the each subject given by students\")`<br>\n",
    "`ax.legend(bbox_to_anchor=(1.05, 1), loc='upper left')`<br>\n",
    "`for c in ax.containers:`<br>\n",
    "    `ax.bar_label(c, fmt='%.2f', label_type='edge')`<br>\n",
    "`plt.show()`<br>\n",
    "\n",
    "Transpose of the above graph : <br>\n",
    "<img title=\"a title\" alt=\"Alt text\" src=\"durationTrans.png\" width = 800>"
   ]
  },
  {
   "cell_type": "markdown",
   "id": "6c6493fb-4090-4b56-93ab-ca49ce8493f3",
   "metadata": {},
   "source": [
    "### 3.3.2. Average RPE Calculation"
   ]
  },
  {
   "cell_type": "markdown",
   "id": "f7e88168-669e-4b8f-aa76-39b9cd9fe93d",
   "metadata": {},
   "source": [
    "<img title=\"a title\" alt=\"Alt text\" src=\"rpe.png\" width = 800>"
   ]
  },
  {
   "cell_type": "markdown",
   "id": "15c6d854-c6a0-453c-8a9b-cdccb1b18684",
   "metadata": {},
   "source": [
    "`df12 = pd.DataFrame({'Name': ['Nupur', 'Jui', 'Swara'], 'Biology': [1.8, 0, 0]})`<br>\n",
    "`df13 = pd.DataFrame({'Name': ['Nupur', 'Jui', 'Swara'], 'Chemistry': [2.0, 3.0, 2.1]})`<br>\n",
    "`df14 = pd.DataFrame({'Name': ['Nupur', 'Jui', 'Swara'], 'English': [1.5, 2.0, 2.0]})`<br>\n",
    "`df15 = pd.DataFrame({'Name': ['Nupur', 'Jui', 'Swara'], 'Math1': [3.0, 2.58, 2.0]})`<br>\n",
    "`df16 = pd.DataFrame({'Name': ['Nupur', 'Jui', 'Swara'], 'Math2': [2.5, 2.58, 2.2]})`<br>\n",
    "`df17 = pd.DataFrame({'Name': ['Nupur', 'Jui', 'Swara'], 'Physics': [2.8, 3.0, 2.3]})`<br>\n",
    "\n",
    "`#use concat to combine more than two DataFrames`<br>\n",
    "`df = pd.concat([df12.set_index('Name'), df13.set_index('Name'), df14.set_index('Name'), df15.set_index('Name'), df16.set_index('Name'), df17.set_index('Name')], axis=1)`<br>\n",
    "`df`<br>\n",
    "\n",
    "<img title=\"a title\" alt=\"Alt text\" src=\"rpeDf.png\" width= 500>\n",
    "\n",
    "`#plot the DataFrame`<br>\n",
    "`ax = df.plot(kind='bar', logy=True, figsize=(20, 10), rot=0, ylabel='RPE', title=\"Average RPE of the each subject felt by students\")`<br>\n",
    "`ax.legend(bbox_to_anchor=(1.05, 1), loc='upper left')`<br>\n",
    "`for c in ax.containers:`<br>\n",
    "    `ax.bar_label(c, fmt='%.2f', label_type='edge')`<br>\n",
    "`plt.show()`<br>\n"
   ]
  },
  {
   "cell_type": "markdown",
   "id": "e96d4929-89e4-4ae6-901f-cf4355e17740",
   "metadata": {},
   "source": [
    "### 3.3.3 Prime Time Analysis\n",
    "To identify prime study times, the analysis focused on examining the relationship between the time of day and both study duration and RPE. The 'StartTime' column was used to categorize study sessions into different time slots:\n",
    "- Dawn (00:00 to 6:00)\n",
    "- Morning (6:00 to 12:00)\n",
    "- Afternoon (12:00 to 18:00)\n",
    "- Evening (18:00 to 00:00).<br>\n",
    "This categorization allowed for comparisons of average duration and RPE across different time periods. Overlapping bar plots were used to visualize the relationship between duration and RPE for each time slot, providing a clear representation of prime study times for individual students.<br>\n",
    "Code snippet :<br>\n",
    "`df = original_df.copy()`<br>\n",
    "`newdf = df.drop(['Subject','RPE','dates','time'], axis=1)`<br>\n",
    "`newdf['Duration'] = newdf['Duration'].apply(lambda x : pd.to_datetime(str(x))) #converting srt to date-time`<br>\n",
    "`newdf['Hours'] = newdf['Duration'].dt.hour`<br>\n",
    "`newdf['Minutes'] = newdf['Duration'].dt.minute`<br>\n",
    "`newdf = newdf.drop(['Duration'],axis =1)`<br>\n",
    "`newdf['Duration']= newdf['Minutes']+ newdf['Hours']*60`<br>\n",
    "`newdf = newdf.drop(['Hours','Minutes'],axis = 1)`<br>\n",
    "`newdf['tod'] = np.nan`<br>\n",
    "`def ftod(x):`<br>\n",
    " ` if (x>=0) & (x<6):`<br>\n",
    "  `      tod = 'dawn'`<br>\n",
    "  ` elif (x>=6) & (x<12):`<br>\n",
    "   `     tod = 'morning'`<br>\n",
    "    ` elif (x>=12) & (x<18):`<br>\n",
    "     `   tod = 'afternoon'`<br>\n",
    "    ` else:`<br>\n",
    "     `   tod = 'evening'`<br>\n",
    "    ` return tod`<br>\n",
    "`newdf['tod'] = newdf['StartTime'].dt.hour.map(ftod) `<br>\n"
   ]
  },
  {
   "cell_type": "markdown",
   "id": "00ee4d8b-8349-4066-bd2f-2a358dfba31e",
   "metadata": {},
   "source": [
    "This is how output looks like <br>\n",
    "<img title=\"a title\" alt=\"Alt text\" src=\"demo.png\" width = 600>"
   ]
  },
  {
   "cell_type": "markdown",
   "id": "0c58b5ac-84ec-4aab-82bd-05c18fbe2de4",
   "metadata": {},
   "source": [
    "After creating separate data frames for girls :\n"
   ]
  },
  {
   "cell_type": "markdown",
   "id": "c4230810-606c-4e56-9b31-efb74ec63aa7",
   "metadata": {},
   "source": [
    "<img title=\"a title\" alt=\"Alt text\" src=\"dfSeparate.png\" width = 600>"
   ]
  },
  {
   "cell_type": "markdown",
   "id": "d4df0240-425c-417c-add8-c29d9869f7f4",
   "metadata": {},
   "source": [
    "Plotting a graph "
   ]
  },
  {
   "cell_type": "markdown",
   "id": "ea39859f-4245-4dbc-88c4-8e3850c714f9",
   "metadata": {},
   "source": [
    "<img title=\"a title\" alt=\"Alt text\" src=\"durationTimeSlot.png\" width = 800>"
   ]
  },
  {
   "cell_type": "markdown",
   "id": "44d0d84e-3b4b-463c-aed9-813fadd8a391",
   "metadata": {},
   "source": [
    "Plotting tis transpose for the comparison point of view :"
   ]
  },
  {
   "cell_type": "markdown",
   "id": "29af827a-3e78-4926-87c2-818245c90fd0",
   "metadata": {},
   "source": [
    "<img title=\"a title\" alt=\"Alt text\" src=\"durationTimeSlots.png\" width = 800>"
   ]
  },
  {
   "cell_type": "markdown",
   "id": "1146f1ca-bb50-4eb3-8415-f2a07a868879",
   "metadata": {},
   "source": [
    "Similarly plotting RPE with respect to timeslots "
   ]
  },
  {
   "cell_type": "markdown",
   "id": "27ba3c1f-aa80-4716-b76d-53e3d645d2ce",
   "metadata": {},
   "source": [
    "<img title=\"a title\" alt=\"Alt text\" src=\"rpeTimeSlots.png\" width = 800>"
   ]
  },
  {
   "cell_type": "markdown",
   "id": "478c2b94-723e-4792-9d55-aedbed94d711",
   "metadata": {},
   "source": [
    "### 3.3.4 Personal Prime time analysis :\n",
    "For analysing the prime time, the concept used was the timeslot having most RPE and most duration. Hence to gain comparative analysis joint bar graphs are used. I have assumed max duration to be reached as 3 hrs and max RPE 5. Here duration is mentioned in hrs. Hence the transparent one shows the max and foreground shows the actual values. \n"
   ]
  },
  {
   "cell_type": "markdown",
   "id": "eed515c9-9132-46e2-9b96-e52e38c6c6a7",
   "metadata": {},
   "source": [
    "<img title=\"a title\" alt=\"Alt text\" src=\"nupurPT.png\" width = 700>\n",
    "<img title=\"a title\" alt=\"Alt text\" src=\"swaraPT.png\" width = 700>\n",
    "<img title=\"a title\" alt=\"Alt text\" src=\"juiPT.png\" width = 700>"
   ]
  },
  {
   "cell_type": "markdown",
   "id": "1d29609d-384b-4980-bcc6-0c6bcc56a284",
   "metadata": {},
   "source": [
    "For comparative analysis "
   ]
  },
  {
   "cell_type": "markdown",
   "id": "b38436dd-7d74-445e-b9ae-fbf72bb3cbf9",
   "metadata": {},
   "source": [
    "<img title=\"a title\" alt=\"Alt text\" src=\"compPT.png\" width = 700>"
   ]
  },
  {
   "cell_type": "markdown",
   "id": "4d5e0eab-899c-4eb1-ab7c-6ee735b98f74",
   "metadata": {},
   "source": [
    "### 3.3.5 Analysis based on number of sessions "
   ]
  },
  {
   "cell_type": "markdown",
   "id": "4defd47f-3c92-44d6-94af-5c6a21fd3225",
   "metadata": {},
   "source": [
    "`def create_subject_summary(df):` takes input a dataframe which is separated dataframe of a student outputs a dtatframe with summary of aveage RPE over total number of sessions , aveagra duration over total number of sessions and total number of sessions"
   ]
  },
  {
   "cell_type": "markdown",
   "id": "d1c82504-c683-4d9f-997e-9cf4e4d093af",
   "metadata": {},
   "source": [
    "`def create_subject_summary(df):`<br>\n",
    "    `\"\"\"`<br>\n",
    "    `Creates a summary dataframe with sessions count, average RPE and duration (in hours) for each subject.`<br>\n",
    "    `\"\"\"`<br>\n",
    "    `summary = df.groupby('Subject').agg({`<br>\n",
    "        `'RPE': ['count', 'mean'],`<br>\n",
    "        `'Duration': 'mean'`<br>\n",
    "    `})`<br>\n",
    "    `summary.columns = ['Sessions', 'Avg RPE', 'Avg Dura']` <br>\n",
    "    `summary = summary.reset_index()`<br>\n",
    "    `summary['Avg Dura'] = summary['Avg Dura'] / 60  # Convert minutes to hours`<br>\n",
    "    `summary['Avg RPE'] = summary['Avg RPE'].round(2)`<br>\n",
    "    `summary['Avg Dura'] = summary['Avg Dura'].round(2)`<br>\n",
    "    `return summary`<br>\n",
    "\n",
    "    \n",
    "---\n",
    "    "
   ]
  },
  {
   "cell_type": "markdown",
   "id": "eb4701a7-a0d0-4c0a-b6af-eefb81d972a6",
   "metadata": {},
   "source": [
    "`def plot_subject_summary(summary_df):` function plots the dataframe creating joint bar graphs"
   ]
  },
  {
   "cell_type": "markdown",
   "id": "5dfa218f-ef75-488f-a9b1-778f290a36f8",
   "metadata": {},
   "source": [
    "`def plot_subject_summary(summary_df):`<br>\n",
    "    `\"\"\"`<br>\n",
    "    `Creates a grouped bar plot showing Sessions, Avg RPE, and Avg Duration for each subject.`  <br>\n",
    "    `Parameters:`<br>\n",
    "    `summary_df (pandas.DataFrame): Summary dataframe from create_subject_summary function`<br>\n",
    "    `\"\"\"`<br>\n",
    "    `fig = go.Figure(data=[`<br>\n",
    "        `go.Bar(name='Sessions', `<br>\n",
    "               `x=summary_df['Subject'], `<br>\n",
    "               `y=summary_df['Sessions'],`<br>\n",
    "               `marker_color='rgb(55, 83, 109)',`<br>\n",
    "               `text=summary_df['Sessions'],`<br>\n",
    "               `textposition='auto'),`<br>   \n",
    "        `go.Bar(name='Average RPE', `<br>\n",
    "               `x=summary_df['Subject'], `<br>\n",
    "               `y=summary_df['Avg RPE'],`<br>\n",
    "               `marker_color='rgb(26, 118, 255)',`<br>\n",
    "               `text=summary_df['Avg RPE'].round(2),`<br>\n",
    "               `textposition='auto'),`<br>\n",
    "        `go.Bar(name='Average Duration', `<br>\n",
    "               `x=summary_df['Subject'], `<br>\n",
    "               `y=summary_df['Avg Dura'],`<br>\n",
    "               `marker_color='rgb(158, 202, 225)',`<br>\n",
    "               `text=summary_df['Avg Dura'].round(1),`<br>\n",
    "               `textposition='auto')`<br>\n",
    "    `])`<br>\n",
    "    `# Update layout`<br>\n",
    "    `fig.update_layout(`<br>\n",
    "        `title='Subject-wise Analysis',`<br>\n",
    "        `title_x=0,`<br>\n",
    "        `barmode='group',`<br>\n",
    "        `width=1000,`<br>\n",
    "        `height=600,`<br>\n",
    "        `yaxis_title='Values',`<br>\n",
    "        `xaxis_title='Subjects',`<br>\n",
    "        `bargap=0.15,`<br>\n",
    "        `bargroupgap=0.1,`<br>\n",
    "        `showlegend=True,`<br>\n",
    "        `legend=dict(`<br>\n",
    "            `yanchor=\"top\",`<br>\n",
    "            `y=1.15,`<br>\n",
    "            `xanchor=\"center\",`<br>\n",
    "            `x=0.5,`<br>\n",
    "            `orientation=\"h\"`<br>\n",
    "        `)`<br>\n",
    "    `)`<br>\n",
    "    `return fig`<br>\n",
    "\n",
    "---"
   ]
  },
  {
   "cell_type": "markdown",
   "id": "cbe6c41f-ac8b-47bc-a651-8184f2c78362",
   "metadata": {},
   "source": [
    "### Nupur :<br>\n",
    "<img title=\"a title\" alt=\"Alt text\" src=\"nupur_PT.png\" width = 700><br>\n",
    "### Swara :<br>\n",
    "<img title=\"a title\" alt=\"Alt text\" src=\"swara_PT.png\" width = 700><br>\n",
    "### Jui :<br>\n",
    "<img title=\"a title\" alt=\"Alt text\" src=\"jui_PT.png\" width = 700><br>"
   ]
  },
  {
   "cell_type": "markdown",
   "id": "911c77e4-9dda-4e6a-a283-6839f3964bba",
   "metadata": {},
   "source": [
    "### Comparative Analysis : \n",
    "\n",
    "<img title=\"a title\" alt=\"Alt text\" src=\"comp_PT.png\" width = 900><br>"
   ]
  },
  {
   "cell_type": "markdown",
   "id": "42e5927f-da51-4d6c-b182-16b37b1f2b49",
   "metadata": {},
   "source": [
    "### Conclusion :\n",
    "The methodology employed in this project involved a systematic approach to data collection, preprocessing, EDA, and visualization using Python libraries. The findings from this analysis are presented in the subsequent sections of this report, offering insights into the self-study habits of female students.\n"
   ]
  },
  {
   "cell_type": "markdown",
   "id": "2a4fc31d-bde2-40ac-a95d-0407792b72aa",
   "metadata": {},
   "source": [
    "## 4. Data Analysis and Results\n",
    "Analysis focused on students, exploring average RPE, duration, and prime study times. The data was further segmented by subject and student to understand individual study patterns. The results are detailed in the subsequent sections.\n",
    "- Key Findings and Discussion\n",
    "   - Average RPE: The average RPE across all students was 2.61 (out of 4), indicating moderate levels of perceived exertion during self-study.\n",
    "   - Average Duration: The average study duration varied among students. Detailed analysis for each student's average duration is presented in the \"Data Analysis and Results\" section.\n",
    "   - Prime Study Times: Students exhibited different prime study times, with some favoring mornings while others were more productive in the afternoon or evening. Detailed breakdowns for each student's prime study times are available in the \"Data Analysis and Results\" section.\n",
    "   - Subject-wise Analysis: Both average duration and RPE showed variations across different subjects. Specific subjects like English and Math-I tended to have longer average durations while subjects like Chemistry and Physics often resulted in higher RPE scores. "
   ]
  },
  {
   "cell_type": "markdown",
   "id": "6c297c1b-c78c-48ea-9f30-43b07784b7b8",
   "metadata": {},
   "source": [
    "The sources provide a detailed analysis of student study habits, visualized through various graphs. \n",
    "\n",
    "**Overall Study Patterns:**\n",
    "\n",
    "* **Swara demonstrates the highest average study duration across all subjects**, followed closely by Jui. This suggests a greater time commitment to studying compared to Nupur. \n",
    "* **Jui consistently reports higher RPE levels across most subjects**, indicating she might perceive the subjects as more challenging or requiring greater effort. \n",
    "\n",
    "**Average Study Duration and RPE by Subject:**\n",
    "\n",
    "* **Swara's significant time investment in Maths-I** suggests a potential focus or interest in this subject. Her average duration for Maths-I is the highest among all subjects and students.\n",
    "* **Nupur's highest average duration is for English**, implying a possible preference or strength in this area. This is further supported by her relatively lower RPE for English, indicating a correlation between perceived effort and time spent. \n",
    "* **Jui's strong tendency to favor Chemistry is evident by the highest number of study sessions dedicated to this subject.** This focused approach might indicate a particular interest or a specific preparation strategy. \n",
    "\n",
    "**Prime Time Analysis:**\n",
    "\n",
    "* **Nupur's prime study time appears to be the evening**, exhibiting the highest average duration and a moderate RPE during this period.\n",
    "* **Jui's study pattern is relatively balanced across different timeslots**,  with no significant peaks or troughs in duration or RPE. \n",
    "* **Swara's analysis highlights a preference for morning and dawn hours for study**. However, her highest RPE occurs in the dawn slot, suggesting potential fatigue or reduced focus during very early hours. \n",
    "\n",
    "**Session-wise Insights:**\n",
    "\n",
    "* Analyzing session durations reveals **variability in study session lengths for each student and subject**.  Some sessions are short and focused, while others are extended.\n",
    "* **Examining RPE in conjunction with session duration can provide insights into individual productivity levels.** For instance, a high RPE coupled with a shorter duration might indicate a struggle to maintain focus or a high level of perceived difficulty, while a low RPE with a longer duration suggests a comfortable and productive study session.\n",
    "* **Tracking session-wise data over time can reveal trends in study habits and help identify potential areas for improvement.**  For example, if a student consistently has short sessions with high RPE for a specific subject, it might indicate a need for additional support or a change in study strategies.\n",
    "\n"
   ]
  },
  {
   "cell_type": "markdown",
   "id": "1dbec9e0-9d20-44e9-b162-56e7f9e6c4e2",
   "metadata": {},
   "source": [
    "## 5. Conclusion"
   ]
  },
  {
   "cell_type": "markdown",
   "id": "464b4581-b61e-44a6-997c-215008df9694",
   "metadata": {},
   "source": [
    "This project delves into analyzing student study patterns using a dataset containing information about study subjects, durations, and perceived exertion levels (RPE). Through a series of data manipulations and visualizations, the project successfully uncovers key insights into the distinct study habits and preferences of three students: Nupur, Swara, and Jui. \n",
    "\n",
    "The following key conclusions emerge from the analysis:\n",
    "\n",
    "*   **Individualized Study Habits:** Each student exhibits unique study patterns. **Swara emerges as the most dedicated student in terms of time invested**, with the highest average study duration across subjects. **Jui, while spending slightly less time, consistently reports higher RPE scores**, suggesting she perceives the subjects as more demanding. **Nupur, on the other hand, shows a more balanced approach**, with her study durations and RPE levels varying significantly across subjects and times of day.\n",
    "\n",
    "*   **Prime Time Variability:**  Analyzing study durations and RPE across different times of day reveals the importance of **personalized study scheduling**.  **Nupur's prime study time appears to be the evening**, as evidenced by her longer durations and moderate RPE during this period.  **Jui's study pattern is relatively consistent across timeslots**,  while **Swara demonstrates a preference for mornings and dawn**,  despite experiencing higher RPE in the very early hours.\n",
    "\n",
    "*   **Subject-Specific Insights:** The analysis reveals **strong subject preferences** influencing study patterns. **Swara's significant time investment in Maths-I points toward a particular interest or focus on this subject.** **Nupur's preference for English**,  marked by longer durations and lower RPE,  suggests a potential strength in this area.  **Jui's focused dedication to Chemistry, evident through a high number of sessions, hints at a strategic approach to mastering the subject.**\n",
    "\n",
    "*   **Session-Level Analysis:** **Analyzing session durations and RPE together provides a nuanced understanding of student productivity and focus.**  Some students engage in short, intense sessions, while others prefer longer, more relaxed periods. **The combination of duration and RPE reveals valuable insights into sessions where students thrive versus those where they might struggle**, helping to identify potential areas for improvement. \n",
    "\n",
    "By combining these key conclusions, the project effectively demonstrates the value of data-driven insights in understanding student study habits. **The visualizations and analyses serve as powerful tools for educators and students to develop tailored study plans that optimize learning effectiveness, time management, and overall academic performance.** By leveraging these insights, students can identify their prime study times, adjust study strategies based on subject-specific challenges, and improve their overall learning experience. \n"
   ]
  },
  {
   "cell_type": "code",
   "execution_count": null,
   "id": "9d82cb0e-40dd-4b18-bcbd-3d48b5f96618",
   "metadata": {},
   "outputs": [],
   "source": []
  }
 ],
 "metadata": {
  "kernelspec": {
   "display_name": "Python 3 (ipykernel)",
   "language": "python",
   "name": "python3"
  },
  "language_info": {
   "codemirror_mode": {
    "name": "ipython",
    "version": 3
   },
   "file_extension": ".py",
   "mimetype": "text/x-python",
   "name": "python",
   "nbconvert_exporter": "python",
   "pygments_lexer": "ipython3",
   "version": "3.12.4"
  }
 },
 "nbformat": 4,
 "nbformat_minor": 5
}
